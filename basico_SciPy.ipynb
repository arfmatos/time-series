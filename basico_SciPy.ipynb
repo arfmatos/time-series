{
  "nbformat": 4,
  "nbformat_minor": 0,
  "metadata": {
    "colab": {
      "provenance": [],
      "authorship_tag": "ABX9TyPQrwThXr3fIA7SCLwlg0JG",
      "include_colab_link": true
    },
    "kernelspec": {
      "name": "python3",
      "display_name": "Python 3"
    },
    "language_info": {
      "name": "python"
    }
  },
  "cells": [
    {
      "cell_type": "markdown",
      "metadata": {
        "id": "view-in-github",
        "colab_type": "text"
      },
      "source": [
        "<a href=\"https://colab.research.google.com/github/arfmatos/time-series/blob/main/basico_SciPy.ipynb\" target=\"_parent\"><img src=\"https://colab.research.google.com/assets/colab-badge.svg\" alt=\"Open In Colab\"/></a>"
      ]
    },
    {
      "cell_type": "code",
      "source": [
        "import numpy as np\n",
        "import matplotlib.pyplot as plt\n",
        "from scipy import integrate, optimize, stats, signal, fft"
      ],
      "metadata": {
        "id": "oNqeU6XmPnWy"
      },
      "execution_count": 1,
      "outputs": []
    },
    {
      "cell_type": "code",
      "source": [
        "# Exemplo de cálculo de integral definida\n",
        "def f(x):\n",
        "    return x**2\n",
        "\n",
        "result, error = integrate.quad(f, 0, 1)\n",
        "print(result) # Saída: 0.33333333333333337"
      ],
      "metadata": {
        "colab": {
          "base_uri": "https://localhost:8080/"
        },
        "id": "SMtE99XVPpih",
        "outputId": "e346969f-704d-416b-b549-023d348c247c"
      },
      "execution_count": 2,
      "outputs": [
        {
          "output_type": "stream",
          "name": "stdout",
          "text": [
            "0.33333333333333337\n"
          ]
        }
      ]
    },
    {
      "cell_type": "code",
      "source": [
        "# Exemplo de resolução de sistema de EDOs\n",
        "from scipy.integrate import solve_ivp\n",
        "\n",
        "def fun(t, y):\n",
        "    return [y[1], -y[0]]\n",
        "\n",
        "sol = solve_ivp(fun, [0, 10], [0, 1], dense_output=True)\n",
        "print(sol.y[0][-1]) # Saída: -0.5440211108893699"
      ],
      "metadata": {
        "colab": {
          "base_uri": "https://localhost:8080/"
        },
        "id": "IziNA0_LPr-Z",
        "outputId": "7d15670e-f7eb-42ef-862d-54cd45a0d53f"
      },
      "execution_count": 3,
      "outputs": [
        {
          "output_type": "stream",
          "name": "stdout",
          "text": [
            "-0.5461464784873812\n"
          ]
        }
      ]
    },
    {
      "cell_type": "code",
      "source": [
        "# Exemplo de minimização de função de uma variável\n",
        "def f(x):\n",
        "    return x**2 - 6*x + 5\n",
        "\n",
        "result = optimize.minimize(f, x0=0)\n",
        "print(result.x) # Saída: [3.00000003]"
      ],
      "metadata": {
        "colab": {
          "base_uri": "https://localhost:8080/"
        },
        "id": "7P4K6nGcPvTS",
        "outputId": "56c4b143-4eff-4a42-dff7-f7bcaf4610d3"
      },
      "execution_count": 4,
      "outputs": [
        {
          "output_type": "stream",
          "name": "stdout",
          "text": [
            "[3.00000003]\n"
          ]
        }
      ]
    },
    {
      "cell_type": "code",
      "source": [
        "# Exemplo de ajuste de curva\n",
        "def func(x, a, b, c):\n",
        "    return a*np.exp(-b*x) + c\n",
        "\n",
        "xdata = np.array([0, 1, 2, 3, 4])\n",
        "ydata = np.array([3, 2, 1.5, 1, 0.5])\n",
        "\n",
        "popt, pcov = optimize.curve_fit(func, xdata, ydata)\n",
        "print(popt) # Saída: [ 3.  1. -2.]"
      ],
      "metadata": {
        "colab": {
          "base_uri": "https://localhost:8080/"
        },
        "id": "B3Q7OGzVPzy1",
        "outputId": "f31d541c-955f-4d35-e96b-fbd732d0cbef"
      },
      "execution_count": 5,
      "outputs": [
        {
          "output_type": "stream",
          "name": "stdout",
          "text": [
            "[ 3.70499965  0.2635459  -0.74205911]\n"
          ]
        }
      ]
    },
    {
      "cell_type": "code",
      "source": [
        "# Exemplo de encontro de raiz\n",
        "def f(x):\n",
        "    return x**2 - 4\n",
        "\n",
        "result = optimize.root(f, x0=0)\n",
        "print(result.x) # Saída: [ 2. -2.]"
      ],
      "metadata": {
        "colab": {
          "base_uri": "https://localhost:8080/"
        },
        "id": "C0Atx2cVP2y3",
        "outputId": "ed3273d8-7b5a-4494-8f26-1e15a05f35f4"
      },
      "execution_count": 6,
      "outputs": [
        {
          "output_type": "stream",
          "name": "stdout",
          "text": [
            "[0.]\n"
          ]
        }
      ]
    },
    {
      "cell_type": "code",
      "source": [
        "# Exemplo de criação de distribuição normal\n",
        "norm = stats.norm(loc=0, scale=1)\n",
        "\n",
        "x = np.linspace(-5, 5, 100)\n",
        "pdf = norm.pdf(x)\n",
        "\n",
        "plt.plot(x, pdf)\n",
        "plt.show()"
      ],
      "metadata": {
        "colab": {
          "base_uri": "https://localhost:8080/",
          "height": 265
        },
        "id": "jaSxivrFP46E",
        "outputId": "f6e7cb5d-edef-4895-9623-3d4465fe3ea0"
      },
      "execution_count": 7,
      "outputs": [
        {
          "output_type": "display_data",
          "data": {
            "text/plain": [
              "<Figure size 432x288 with 1 Axes>"
            ],
            "image/png": "[encoded data removed]"
          },
          "metadata": {
            "needs_background": "light"
          }
        }
      ]
    },
    {
      "cell_type": "code",
      "source": [
        "# Exemplo de teste de correlação de Pearson\n",
        "x = np.array([1, 2, 3, 4, 5])\n",
        "y = np.array([2, 4, 6, 8, 10])\n",
        "\n",
        "corr, p = stats.pearsonr(x, y)\n",
        "print(corr) # Saída: 1.0"
      ],
      "metadata": {
        "colab": {
          "base_uri": "https://localhost:8080/"
        },
        "id": "iGYaS96JP7Il",
        "outputId": "8ffc7ec8-0c97-43c0-c91f-8b4ff920bfcf"
      },
      "execution_count": 8,
      "outputs": [
        {
          "output_type": "stream",
          "name": "stdout",
          "text": [
            "1.0\n"
          ]
        }
      ]
    },
    {
      "cell_type": "code",
      "source": [
        "# Exemplo de convolução\n",
        "x = np.array([1, 2, 3, 4, 5])\n",
        "h = np.array([1, 1, 1])\n",
        "\n",
        "y = signal.convolve(x, h)\n",
        "\n",
        "print(y) # Saída: [ 1  3  6  9 12  9  5]"
      ],
      "metadata": {
        "colab": {
          "base_uri": "https://localhost:8080/"
        },
        "id": "IlZH6XOuP9Tt",
        "outputId": "6ad31594-a6b7-44c4-c46b-fe81a8e835e5"
      },
      "execution_count": 9,
      "outputs": [
        {
          "output_type": "stream",
          "name": "stdout",
          "text": [
            "[ 1  3  6  9 12  9  5]\n"
          ]
        }
      ]
    },
    {
      "cell_type": "code",
      "source": [
        "# Exemplo de espectrograma\n",
        "fs = 1000 # taxa de amostragem\n",
        "t = np.linspace(0, 1, fs, endpoint=False)\n",
        "x = np.sin(2*np.pi*50*t) + np.sin(2*np.pi*80*t)\n",
        "\n",
        "f, t, Sxx = signal.spectrogram(x, fs)\n",
        "\n",
        "plt.pcolormesh(t, f, Sxx)\n",
        "plt.ylabel('Frequência [Hz]')\n",
        "plt.xlabel('Tempo [seg]')\n",
        "plt.show()"
      ],
      "metadata": {
        "colab": {
          "base_uri": "https://localhost:8080/",
          "height": 282
        },
        "id": "erIS5t3SP_8U",
        "outputId": "bd440e3c-e95b-45bc-dbd4-c7196dc0a89f"
      },
      "execution_count": 10,
      "outputs": [
        {
          "output_type": "display_data",
          "data": {
            "text/plain": [
              "<Figure size 432x288 with 1 Axes>"
            ],
            "image/png": "[encoded data removed]"
          },
          "metadata": {
            "needs_background": "light"
          }
        }
      ]
    },
    {
      "cell_type": "code",
      "execution_count": 11,
      "metadata": {
        "colab": {
          "base_uri": "https://localhost:8080/"
        },
        "id": "N3VVp23NPfg8",
        "outputId": "9d948d9c-d1cb-4479-93b9-532cff874b32"
      },
      "outputs": [
        {
          "output_type": "stream",
          "name": "stdout",
          "text": [
            "[10.-0.j -2.+2.j -2.-0.j -2.-2.j]\n"
          ]
        }
      ],
      "source": [
        "# Exemplo de transformada discreta de Fourier\n",
        "x = np.array([1, 2, 3, 4])\n",
        "y = fft.fft(x)\n",
        "\n",
        "print(y) # Saída:\n"
      ]
    },
    {
      "cell_type": "code",
      "source": [],
      "metadata": {
        "id": "KJjPRlOePizt"
      },
      "execution_count": null,
      "outputs": []
    }
  ]
}