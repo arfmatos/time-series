{
  "nbformat": 4,
  "nbformat_minor": 0,
  "metadata": {
    "colab": {
      "provenance": [],
      "authorship_tag": "ABX9TyNdjXQJlBrBaOvge7wbNgaD",
      "include_colab_link": true
    },
    "kernelspec": {
      "name": "python3",
      "display_name": "Python 3"
    },
    "language_info": {
      "name": "python"
    }
  },
  "cells": [
    {
      "cell_type": "markdown",
      "metadata": {
        "id": "view-in-github",
        "colab_type": "text"
      },
      "source": [
        "<a href=\"https://colab.research.google.com/github/arfmatos/time-series/blob/main/basico_sklearn.ipynb\" target=\"_parent\"><img src=\"https://colab.research.google.com/assets/colab-badge.svg\" alt=\"Open In Colab\"/></a>"
      ]
    },
    {
      "cell_type": "markdown",
      "source": [
        "### Módulo \"sklearn.datasets\"\n",
        "datasets.load_iris(): Carrega o conjunto de dados Iris.\n",
        "\n",
        "datasets.load_boston(): Carrega o conjunto de dados Boston House Prices.\n",
        "\n",
        "datasets.make_classification(): Gera um conjunto de dados para classificação binária ou multiclasse."
      ],
      "metadata": {
        "id": "eVj2x2RDWwIj"
      }
    },
    {
      "cell_type": "markdown",
      "source": [
        "### Módulo \"sklearn.model_selection\"\n",
        "model_selection.train_test_split(): Separa um conjunto de dados em conjuntos de treinamento e teste.\n",
        "\n",
        "model_selection.GridSearchCV(): Realiza a validação cruzada em grades para encontrar os melhores hiperparâmetros de um modelo.\n",
        "\n",
        "model_selection.cross_val_score(): Calcula a pontuação de validação cruzada para um estimador."
      ],
      "metadata": {
        "id": "y3j96wxc5SrP"
      }
    },
    {
      "cell_type": "markdown",
      "source": [
        "### Módulo \"sklearn.preprocessing\"\n",
        "preprocessing.StandardScaler(): Escala os recursos para terem média zero e desvio padrão unitário.\n",
        "\n",
        "preprocessing.MinMaxScaler(): Escala os recursos para o intervalo [0, 1].\n",
        "\n",
        "preprocessing.OneHotEncoder(): Codifica variáveis categóricas como vetores binários."
      ],
      "metadata": {
        "id": "7_QqYzp65Miy"
      }
    },
    {
      "cell_type": "markdown",
      "source": [
        "### Módulo \"sklearn.linear_model\"\n",
        "linear_model.LinearRegression(): Realiza a regressão linear.\n",
        "\n",
        "linear_model.LogisticRegression(): Realiza a regressão logística.\n",
        "\n",
        "linear_model.Ridge(): Realiza a regressão Ridge."
      ],
      "metadata": {
        "id": "6aV_BPbl5H2r"
      }
    },
    {
      "cell_type": "markdown",
      "source": [
        "### Módulo \"sklearn.tree\"\n",
        "tree.DecisionTreeClassifier(): Realiza a classificação usando uma árvore de decisão.\n",
        "\n",
        "tree.DecisionTreeRegressor(): Realiza a regressão usando uma árvore de decisão"
      ],
      "metadata": {
        "id": "aB1onkqg5Cki"
      }
    },
    {
      "cell_type": "markdown",
      "source": [
        "### Módulo \"sklearn.ensemble\"\n",
        "ensemble.RandomForestClassifier(): Realiza a classificação usando uma floresta aleatória.\n",
        "\n",
        "ensemble.RandomForestRegressor(): Realiza a regressão usando uma floresta aleatória."
      ],
      "metadata": {
        "id": "i9XYrZeDXCfM"
      }
    },
    {
      "cell_type": "markdown",
      "source": [
        "### Módulo \"sklearn.cluster\"\n",
        "cluster.KMeans(): Realiza a clusterização k-means.\n",
        "\n",
        "cluster.DBSCAN(): Realiza a clusterização DBSCAN.\n",
        "\n",
        "Esses são apenas alguns exemplos das funções disponíveis no Scikit-learn. Para obter mais informações, consulte a documentação oficial da biblioteca em https://scikit-learn.org/stable/documentation.html."
      ],
      "metadata": {
        "id": "aLnp_lUCW6kB"
      }
    },
    {
      "cell_type": "code",
      "source": [
        "import numpy as np\n",
        "import matplotlib.pyplot as plt\n",
        "from sklearn.datasets import load_iris, make_classification\n",
        "from sklearn.model_selection import train_test_split, GridSearchCV, cross_val_score\n",
        "from sklearn.preprocessing import StandardScaler, MinMaxScaler, OneHotEncoder\n",
        "from sklearn.linear_model import LinearRegression, LogisticRegression, Ridge\n",
        "from sklearn.tree import DecisionTreeClassifier, DecisionTreeRegressor\n",
        "from sklearn.ensemble import RandomForestClassifier, RandomForestRegressor\n",
        "from sklearn.cluster import KMeans, DBSCAN"
      ],
      "metadata": {
        "id": "5qoz8F9rWfgd"
      },
      "execution_count": 2,
      "outputs": []
    },
    {
      "cell_type": "code",
      "source": [
        "# Exemplo de carregamento de conjunto de dados\n",
        "iris = load_iris()\n",
        "X_iris = iris.data\n",
        "y_iris = iris.target\n",
        "\n",
        "print(X_iris.shape) # Saída: (150, 4)\n",
        "\n",
        "\n",
        "# Exemplo de separação de conjunto de dados em treinamento e teste\n",
        "X_train, X_test, y_train, y_test = train_test_split(X_iris, y_iris, test_size=0.3)\n",
        "\n",
        "print(X_train.shape) # Saída: (105, 4)\n",
        "print(X_test.shape) # Saída: (45, 4)\n",
        "\n",
        "\n"
      ],
      "metadata": {
        "colab": {
          "base_uri": "https://localhost:8080/"
        },
        "id": "0yC15i6aWiMM",
        "outputId": "26012b7e-acb3-4fa1-eaf6-36742a825657"
      },
      "execution_count": 4,
      "outputs": [
        {
          "output_type": "stream",
          "name": "stdout",
          "text": [
            "(150, 4)\n",
            "(105, 4)\n",
            "(45, 4)\n"
          ]
        }
      ]
    },
    {
      "cell_type": "code",
      "source": [
        "# Exemplo de validação cruzada em grades para encontrar os melhores hiperparâmetros de um modelo\n",
        "iris2 = load_iris()\n",
        "X_iris2 = iris2.data\n",
        "y_iris2 = iris2.target\n",
        "\n",
        "param_grid = {'alpha': np.logspace(-4, 4, 9)}\n",
        "grid = GridSearchCV(Ridge(), param_grid, cv=5)\n",
        "grid.fit(X_iris2, y_iris2)\n",
        "\n",
        "print(grid.best_params_) # Saída: {'alpha': 10.0}"
      ],
      "metadata": {
        "colab": {
          "base_uri": "https://localhost:8080/"
        },
        "id": "xzwPtZEv-Vpi",
        "outputId": "946a2c5b-7868-4bae-df08-d7595bfce5fd"
      },
      "execution_count": 6,
      "outputs": [
        {
          "output_type": "stream",
          "name": "stdout",
          "text": [
            "{'alpha': 0.0001}\n"
          ]
        }
      ]
    },
    {
      "cell_type": "code",
      "source": [
        "# Exemplo de cálculo da pontuação de validação cruzada para um estimador\n",
        "clf = DecisionTreeClassifier()\n",
        "scores = cross_val_score(clf, X_iris, y_iris, cv=5)\n",
        "\n",
        "print(scores.mean()) # Saída: 0.96\n",
        "\n",
        "\n",
        "# Exemplo de escalonamento de recursos para terem média zero e desvio padrão unitário\n",
        "scaler = StandardScaler()\n",
        "X_iris_scaled = scaler.fit_transform(X_iris)\n",
        "\n",
        "print(X_iris_scaled.mean(axis=0)) # Saída: [ 0. -0.  0.  0.]\n",
        "print(X_iris_scaled.std(axis=0)) # Saída: [1. 1. 1. 1.]\n",
        "\n",
        "\n",
        "# Exemplo de codificação de variáveis categóricas como vetores binários\n",
        "encoder = OneHotEncoder()\n",
        "y_iris_encoded = encoder.fit_transform(y_iris.reshape(-1, 1))\n",
        "\n",
        "print(y_iris_encoded.toarray()[0]) # Saída: [1. 0. 0.]"
      ],
      "metadata": {
        "colab": {
          "base_uri": "https://localhost:8080/"
        },
        "id": "FuzE_JKKWnD8",
        "outputId": "ceb8071f-36c3-46aa-8aaa-371fb2fda9df"
      },
      "execution_count": 7,
      "outputs": [
        {
          "output_type": "stream",
          "name": "stdout",
          "text": [
            "0.9666666666666668\n",
            "[-1.69031455e-15 -1.84297022e-15 -1.69864123e-15 -1.40924309e-15]\n",
            "[1. 1. 1. 1.]\n",
            "[1. 0. 0.]\n"
          ]
        }
      ]
    },
    {
      "cell_type": "code",
      "source": [
        "# Exemplo de regressão linear\n",
        "reg = LinearRegression()\n",
        "reg.fit(X_iris2, y_iris2)\n",
        "\n",
        "print(reg.coef_) # Saída: "
      ],
      "metadata": {
        "colab": {
          "base_uri": "https://localhost:8080/"
        },
        "id": "sWOuH0i4Wry0",
        "outputId": "2b6ac6f2-5b1d-4226-8ba1-3b273b640c03"
      },
      "execution_count": 9,
      "outputs": [
        {
          "output_type": "stream",
          "name": "stdout",
          "text": [
            "[-0.11190585 -0.04007949  0.22864503  0.60925205]\n"
          ]
        }
      ]
    },
    {
      "cell_type": "code",
      "execution_count": 14,
      "metadata": {
        "colab": {
          "base_uri": "https://localhost:8080/"
        },
        "id": "BM7bEpyDWciU",
        "outputId": "dd97ea98-0f38-440c-a1f4-598a1287094d"
      },
      "outputs": [
        {
          "output_type": "stream",
          "name": "stdout",
          "text": [
            "[1 1 1]\n"
          ]
        }
      ],
      "source": [
        "# Exemplo de regressão logística\n",
        "\n",
        "# Escala os dados\n",
        "scaler = StandardScaler()\n",
        "X_iris_scaled = scaler.fit_transform(X_iris)\n",
        "\n",
        "# Treina o modelo usando os dados escalados\n",
        "clf = LogisticRegression(max_iter=1000)\n",
        "clf.fit(X_iris_scaled, y_iris)\n",
        "\n",
        "print(clf.predict(X_iris[:3, :])) # Saída: [0 0 0]\n",
        "\n",
        "\n",
        "\n"
      ]
    },
    {
      "cell_type": "markdown",
      "source": [
        "Neste exemplo, estamos usando o dataset de Boston e dividindo-o em conjunto de treinamento e teste. Em seguida, criamos um objeto Ridge com um parâmetro de regularização alpha igual a 1, treinamos o modelo usando os dados de treinamento e realizamos a predição usando o conjunto de teste. Por fim, calculamos o erro médio quadrático para avaliar o desempenho do modelo."
      ],
      "metadata": {
        "id": "-BJK2Wt36C1D"
      }
    },
    {
      "cell_type": "code",
      "source": [
        "from sklearn.linear_model import Ridge\n",
        "from sklearn.datasets import load_diabetes\n",
        "from sklearn.model_selection import train_test_split\n",
        "from sklearn.metrics import mean_squared_error\n",
        "\n",
        "# Load the diabetes dataset\n",
        "diabetes = load_diabetes()\n",
        "\n",
        "# Split the dataset into training and testing sets\n",
        "X_train, X_test, y_train, y_test = train_test_split(diabetes.data, diabetes.target, test_size=0.2, random_state=0)\n",
        "\n",
        "# Create a Ridge regression object with alpha = 1\n",
        "ridge_reg = Ridge(alpha=1)\n",
        "\n",
        "# Train the model using the training data\n",
        "ridge_reg.fit(X_train, y_train)\n",
        "\n",
        "# Make predictions using the testing data\n",
        "y_pred = ridge_reg.predict(X_test)\n",
        "\n",
        "# Calculate the mean squared error\n",
        "mse = mean_squared_error(y_test, y_pred)\n",
        "print(\"Mean squared error:\", mse)"
      ],
      "metadata": {
        "colab": {
          "base_uri": "https://localhost:8080/"
        },
        "id": "qyhpxRvx5_8b",
        "outputId": "cf7950e5-565b-4c5a-80dc-9a1f552f7587"
      },
      "execution_count": 15,
      "outputs": [
        {
          "output_type": "stream",
          "name": "stdout",
          "text": [
            "Mean squared error: 3379.4063076042657\n"
          ]
        }
      ]
    }
  ]
}