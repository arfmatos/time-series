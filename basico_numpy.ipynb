{
  "nbformat": 4,
  "nbformat_minor": 0,
  "metadata": {
    "colab": {
      "provenance": [],
      "authorship_tag": "ABX9TyP0hlNg94058XYkHw4Ac5/b",
      "include_colab_link": true
    },
    "kernelspec": {
      "name": "python3",
      "display_name": "Python 3"
    },
    "language_info": {
      "name": "python"
    }
  },
  "cells": [
    {
      "cell_type": "markdown",
      "metadata": {
        "id": "view-in-github",
        "colab_type": "text"
      },
      "source": [
        "<a href=\"https://colab.research.google.com/github/arfmatos/time-series/blob/main/basico_numpy.ipynb\" target=\"_parent\"><img src=\"https://colab.research.google.com/assets/colab-badge.svg\" alt=\"Open In Colab\"/></a>"
      ]
    },
    {
      "cell_type": "code",
      "execution_count": 1,
      "metadata": {
        "id": "V8nFeTEQD34O"
      },
      "outputs": [],
      "source": [
        "import numpy as np\n",
        "\n"
      ]
    },
    {
      "cell_type": "code",
      "source": [
        "# Criando um array NumPy\n",
        "a = np.array([1, 2, 3])              # array 1D\n",
        "b = np.array([[1, 2, 3], [4, 5, 6]])# array 2D\n",
        "c = np.zeros((2,2))                  # array de zeros 2x2\n",
        "d = np.ones((3,3))                   # array de uns 3x3\n",
        "e = np.random.rand(2,2)              # array aleatório 2x2\n",
        "\n"
      ],
      "metadata": {
        "id": "9fNw45pbD62G"
      },
      "execution_count": 2,
      "outputs": []
    },
    {
      "cell_type": "code",
      "source": [
        "# Operações básicas\n",
        "print(\"a + b =\", a + b)                               # Soma elemento por elemento\n",
        "print(\"np.add(a, b) =\", np.add(a, b))                        # Soma elemento por elemento (outra forma)\n",
        "print(\"a - b =\", a - b)                               # Subtrai elemento por elemento\n",
        "print(\"np.subtract(a, b) =\", np.subtract(a, b))                   # Subtrai elemento por elemento (outra forma)\n",
        "print(\"a * b =\", a * b)                               # Multiplica elemento por elemento\n",
        "print(\"np.multiply(a, b) =\", np.multiply(a, b))                   # Multiplica elemento por elemento (outra forma)\n",
        "print(\"np.dot(a, b) =\", np.dot(b, a))                        # Produto de matrizes (dot product)\n",
        "print(\"a.T =\", a.T)                                 # Transposta\n",
        "\n",
        "\n"
      ],
      "metadata": {
        "colab": {
          "base_uri": "https://localhost:8080/"
        },
        "id": "cv6lfRY5D7c-",
        "outputId": "d4e867be-8e08-4d0d-ae15-f65d24201899"
      },
      "execution_count": 7,
      "outputs": [
        {
          "output_type": "stream",
          "name": "stdout",
          "text": [
            "a + b = [[2 4 6]\n",
            " [5 7 9]]\n",
            "np.add(a, b) = [[2 4 6]\n",
            " [5 7 9]]\n",
            "a - b = [[ 0  0  0]\n",
            " [-3 -3 -3]]\n",
            "np.subtract(a, b) = [[ 0  0  0]\n",
            " [-3 -3 -3]]\n",
            "a * b = [[ 1  4  9]\n",
            " [ 4 10 18]]\n",
            "np.multiply(a, b) = [[ 1  4  9]\n",
            " [ 4 10 18]]\n",
            "np.dot(a, b) = [14 32]\n",
            "a.T = [1 2 3]\n"
          ]
        }
      ]
    },
    {
      "cell_type": "code",
      "source": [
        "# Funções estatísticas\n",
        "print(\"np.mean(a) =\", np.mean(a))                          # Média\n",
        "print(\"np.median(a) =\", np.median(a))                      # Mediana\n",
        "print(\"np.std(a) =\", np.std(a))                            # Desvio padrão\n",
        "print(\"np.var(a) =\", np.var(a))                            # Variância\n",
        "\n",
        "\n"
      ],
      "metadata": {
        "colab": {
          "base_uri": "https://localhost:8080/"
        },
        "id": "0njxBLUVD76-",
        "outputId": "4786b81f-69c6-4bcf-d1d5-55f8fd11f57a"
      },
      "execution_count": 8,
      "outputs": [
        {
          "output_type": "stream",
          "name": "stdout",
          "text": [
            "np.mean(a) = 2.0\n",
            "np.median(a) = 2.0\n",
            "np.std(a) = 0.816496580927726\n",
            "np.var(a) = 0.6666666666666666\n"
          ]
        }
      ]
    },
    {
      "cell_type": "code",
      "source": [
        "# Indexação e fatiamento\n",
        "print(\"a[0] =\", a[0])                                 # Retorna o primeiro elemento de a\n",
        "print(\"b[0, 1] =\", b[0, 1])                                # Retorna o elemento na linha 0 e coluna 1 de b\n",
        "print(\"c[1, :] =\", c[1, :])                                # Retorna a segunda linha inteira de c\n",
        "print(\"d[:, 2] =\", d[:, 2])                                # Retorna a terceira coluna inteira de d\n",
        "print(\"b[0:2, 1:3] =\", b[0:2, 1:3])                          # Retorna uma matriz 2x2 com os elementos na primeira e segunda linha e segunda e terceira coluna de b\n",
        "\n"
      ],
      "metadata": {
        "colab": {
          "base_uri": "https://localhost:8080/"
        },
        "id": "FFUY9RttD8V_",
        "outputId": "ecd94818-f6c3-41cb-f740-5fab92d57183"
      },
      "execution_count": 9,
      "outputs": [
        {
          "output_type": "stream",
          "name": "stdout",
          "text": [
            "a[0] = 1\n",
            "b[0, 1] = 2\n",
            "c[1, :] = [0. 0.]\n",
            "d[:, 2] = [1. 1. 1.]\n",
            "b[0:2, 1:3] = [[2 3]\n",
            " [5 6]]\n"
          ]
        }
      ]
    },
    {
      "cell_type": "code",
      "source": [
        "# Alterando o formato de um array\n",
        "a.shape = (3, 1)                                        # Muda a forma de a para 3 linhas e 1 coluna\n",
        "print(\"np.reshape(a, (3, 1)) =\", np.reshape(a, (3, 1)))           # Muda a forma de a para 3 linhas e 1 coluna (outra forma)\n",
        "print(\"a.ravel() =\", a.ravel())                           # Transforma a em um vetor unidimensional\n",
        "\n"
      ],
      "metadata": {
        "colab": {
          "base_uri": "https://localhost:8080/"
        },
        "id": "H3WJBjXxD8w1",
        "outputId": "59b8eeda-5d7e-49c3-abd6-b22308164ba2"
      },
      "execution_count": 10,
      "outputs": [
        {
          "output_type": "stream",
          "name": "stdout",
          "text": [
            "np.reshape(a, (3, 1)) = [[1]\n",
            " [2]\n",
            " [3]]\n",
            "a.ravel() = [1 2 3]\n"
          ]
        }
      ]
    },
    {
      "cell_type": "code",
      "source": [
        "# Concatenação de arrays\n",
        "print(\"np.concatenate((b, d), axis=0) =\", np.concatenate((b, d), axis=0)) # Concatena a e b ao longo do eixo 0 (verticalmente)"
      ],
      "metadata": {
        "colab": {
          "base_uri": "https://localhost:8080/"
        },
        "id": "fRfVwMyGEKEG",
        "outputId": "6575bc6f-c30a-42c5-948c-582397588711"
      },
      "execution_count": 14,
      "outputs": [
        {
          "output_type": "stream",
          "name": "stdout",
          "text": [
            "np.concatenate((b, d), axis=0) = [[1. 2. 3.]\n",
            " [4. 5. 6.]\n",
            " [1. 1. 1.]\n",
            " [1. 1. 1.]\n",
            " [1. 1. 1.]]\n"
          ]
        }
      ]
    }
  ]
}